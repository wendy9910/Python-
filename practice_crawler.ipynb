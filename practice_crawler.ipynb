{
 "cells": [
  {
   "cell_type": "code",
   "execution_count": 2,
   "id": "fc12c190",
   "metadata": {},
   "outputs": [],
   "source": [
    "import requests\n",
    "from bs4 import BeautifulSoup\n",
    "\n",
    "#安裝套件:\n",
    "# pip install beautifulsoup4\n",
    "# pip install requests\n"
   ]
  },
  {
   "cell_type": "code",
   "execution_count": 34,
   "id": "49153d70",
   "metadata": {},
   "outputs": [
    {
     "name": "stdout",
     "output_type": "stream",
     "text": [
      "rtx\n",
      "https://shopee.tw/backend/growth/canonical_search/get_url/?keyword=rtx\n",
      "{\"error\":1,\"error_msg\":\"not_found\",\"url\":\"\"}\n",
      "\n"
     ]
    }
   ],
   "source": [
    "#step1:拿到網址\n",
    "input_text = input()\n",
    "url = 'https://shopee.tw/backend/growth/canonical_search/get_url/?keyword=%s'%(input_text)\n",
    "\n",
    "headers = {\n",
    "    'user-agent': 'Mozilla/5.0 (Windows NT 10.0; Win64; x64) AppleWebKit/537.36 (KHTML, like Gecko) Chrome/88.0.4324.150 Safari/537.36 Edg/88.0.705.68',\n",
    "    'x-api-source': 'pc',\n",
    "}\n",
    "\n",
    "print(url)\n",
    "r = requests.get(url,headers = headers)\n",
    "\n",
    "#step2:若是中文網站要decode\n",
    "r.encoding = r.apparent_encoding\n",
    "\n",
    "#step3:拿到html編譯txt檔\n",
    "full_text = BeautifulSoup(r.text, \"html.parser\")\n",
    "print(full_text.prettify()) #輸出排版後的內容\n",
    "class_text = full_text.find(\"div\")\n",
    "\n",
    "# text_all = full_text.find_all(\"div\",limit = 2)\n",
    "# print(text_all)\n",
    "# data1 = result.select_one(\"a\") #select_one()方法(Method)，選取一個子節點"
   ]
  },
  {
   "cell_type": "code",
   "execution_count": null,
   "id": "a941eaee",
   "metadata": {},
   "outputs": [],
   "source": [
    "# #step4:了解網頁的html的撰寫規則\n",
    "\n",
    "# #step5:確定目標內容!!\n",
    "\n",
    "# #python爬蟲常用語法\n",
    "#text1 = full_text.find(\"table\",class_=\"hi\")\n",
    "\n",
    "\n",
    "# text2 = full_text.find_all(\"li\")\n",
    "# text3 = full_text.find_all(\"h3\", itemprop=\"headline\", limit=3)#只爬前三個標籤\n",
    "# text4 = full_text.find_all([\"h3\", \"p\"], limit=2)\n",
    "# # <h3>\n",
    "# #     <p> Hi</p>\n",
    "# # </h3>\n",
    "# result = soup.find(\"h3\", itemprop=\"headline\")"
   ]
  },
  {
   "cell_type": "code",
   "execution_count": null,
   "id": "e0ecd521",
   "metadata": {},
   "outputs": [],
   "source": [
    "url = 'https://shopee.tw/'\n",
    "#https://shopee.tw/search?keyword=%E6%89%8B%E6%A9%9F\n",
    "text = input()\n",
    "\n",
    "input_url = 'https://shopee.tw/search?keyword=%s' %(text)"
   ]
  }
 ],
 "metadata": {
  "kernelspec": {
   "display_name": "Python 3 (ipykernel)",
   "language": "python",
   "name": "python3"
  },
  "language_info": {
   "codemirror_mode": {
    "name": "ipython",
    "version": 3
   },
   "file_extension": ".py",
   "mimetype": "text/x-python",
   "name": "python",
   "nbconvert_exporter": "python",
   "pygments_lexer": "ipython3",
   "version": "3.7.11"
  }
 },
 "nbformat": 4,
 "nbformat_minor": 5
}
