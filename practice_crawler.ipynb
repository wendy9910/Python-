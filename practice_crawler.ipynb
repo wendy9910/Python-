{
 "cells": [
  {
   "cell_type": "code",
   "execution_count": 17,
   "id": "2633acd6",
   "metadata": {},
   "outputs": [],
   "source": [
    "import requests\n",
    "from bs4 import BeautifulSoup\n",
    "import json"
   ]
  },
  {
   "cell_type": "code",
   "execution_count": 18,
   "id": "49153d70",
   "metadata": {},
   "outputs": [
    {
     "ename": "SyntaxError",
     "evalue": "unexpected EOF while parsing (Temp/ipykernel_22060/3567697929.py, line 28)",
     "output_type": "error",
     "traceback": [
      "\u001b[1;36m  File \u001b[1;32m\"C:\\Users\\88691\\AppData\\Local\\Temp/ipykernel_22060/3567697929.py\"\u001b[1;36m, line \u001b[1;32m28\u001b[0m\n\u001b[1;33m    \u001b[0m\n\u001b[1;37m    ^\u001b[0m\n\u001b[1;31mSyntaxError\u001b[0m\u001b[1;31m:\u001b[0m unexpected EOF while parsing\n"
     ]
    }
   ],
   "source": [
    "#step1:網址連結網站\n",
    "input_text = input()\n",
    "url = 'https://shopee.tw/api/v4/search/search_items?by=relevancy&keyword=%s&limit=60&newest=0&order=desc&page_type=search&scenario=PAGE_GLOBAL_SEARCH&version=2'%(input_text)\n",
    "\n",
    "#step1-1:設定基本request參數\n",
    "#建議以IE查看\n",
    "headers = {\n",
    "    'content-type': 'application/json',\n",
    "    'sec-fetch-mode': 'cors',\n",
    "    'sec-fetch-site': 'same-origin',\n",
    "    'user-agent': 'Mozilla/5.0 (Windows NT 10.0; Win64; x64) AppleWebKit/537.36 (KHTML, like Gecko) Chrome/97.0.4692.99 Safari/537.36 Edg/97.0.1072.76',\n",
    "    'x-api-source': 'pc',\n",
    "    'referer': 'https://shopee.tw/search?keyword=%s'%(input_text),\n",
    "    'x-requested-with': 'XMLHttpRequest',\n",
    "    'x-shopee-language': 'zh-Hant',\n",
    "}\n",
    "\n",
    "r = requests.get(url,headers = headers)\n",
    "\n",
    "#step2:若是中文網站要decode\n",
    "r.encoding = r.apparent_encoding\n",
    "\n",
    "#step3:拿到html or json檔 轉換成txt檔 \n",
    "if r.status_code == requests.codes.ok:\n",
    "    data = r.json()\n",
    "else:\n",
    "    data = BeautifulSoup(r.text, \"html.parser\"\n",
    "\n"
   ]
  },
  {
   "cell_type": "code",
   "execution_count": 12,
   "id": "14d29ec3",
   "metadata": {},
   "outputs": [
    {
     "name": "stdout",
     "output_type": "stream",
     "text": [
      "所有搜尋到的商品名:\n",
      "歡慶2022春節 蘋果 手機 盲盒 iPhone 13 福袋 生日禮物 平板 ipad airpods magsafe\n",
      "【當天出貨】雙L頭充電線 傳輸線 2M iPhone 安卓 type-c micro 快充線 彎頭 三星 OPPO 小米\n",
      "保固一年【iPhone充電線】蘋果傳輸線 最高規格 適用 12系列 11 XR XS 8 7 6 Plus iPad\n",
      "合金玻璃鏡頭保護貼 鏡頭貼 鏡頭圈適用iPhone 13 12 11 Pro Max SE2 i11 i12 i13\n",
      "100%必中蘋果 Apple 盲盒 膜幻大驚喜福袋 Magsafe iPad，iPhone，airpods watch\n",
      "Q哥 iPhone 全滿版玻璃貼 滿版玻璃 保護貼 適用 13 12 SE2 11 Pro Max XS X 8 A19\n",
      "現貨二手iPhone XR 64G/128G 備用機遊戲機工作室  另售iphone8/8P遊戲機 （下標請看描述）\n",
      "🍎2月特惠🍎【優勢蘋果】iPhone7 32/128/256g  霧黑/紅/玫瑰金  9成新 台灣公司貨\n",
      "iPhone 13 鏡頭保護貼 鏡頭貼 適用 i12 11 Pro Max XR XS X i8 i7 Plus SE2\n",
      "🏆[限時特價+免運+熱賣] iPhone 11 64G 128G台南可面交更安全 網路評價破萬 實拍 6.1大螢幕\n",
      "福利美版好機 九九近全新機 iphone 11 保証美版正版 12 繁体中文 pro max\n",
      "Iphone8  iphone 8  plus 福利 庫存 11 展新機  12 99新  pro max SE2\n",
      "iPhone 13 Pro Max 金屬全覆蓋 康寧玻璃 鏡頭貼 鏡頭保護貼 鏡頭貼適用iPhone13 Pro 鏡頭蓋\n",
      "🍎2月特惠🍎『優勢蘋果』iPhone7 Plus  32/128/256G 外觀9成新 6色 台灣公司貨 iPhone7\n",
      "Apple iPhone 11 128GB 6.1吋智慧型手機 2020新版(公司貨)\n",
      "有發票 🔥無傷 iX iPhoneX 5.8吋 iPhone X 64G 256G 實體店 臺中 板橋 竹南 保固90天\n",
      "AD數碼 iPhone XR 64G/128G 備用機 遊戲機 工作室二手手機 （下標請看描述）不能插卡只能WiFi\n",
      "東東通訊 二手手機專區 iPhone XS 64G 金黑銀 售6800\n",
      "保固內iPhone11 64G 24H快速出貨 福利品 iphone11 64G iPhone11 二手機 中古機\n",
      "外改台版 iphone 11 6.1吋 64g  128g 256g 九九新 福利機\n",
      "二手 福利 美版iphone 6 plus 享保固九九新 12 11 pro max\n",
      "Apple iPhone8 plus 64/256g 漂亮95成新顏色齊全台北實體店面\n",
      "第九電/D9圓形充電線 傳輸線 磁吸充電線 2A 3A 快充 三星 htc oppo 蘋果 iphone磁吸充電線傳輸綫\n",
      "Apple4 iPhone4 / iPhone4s 8G 64G/ 16G/ 32G/ 4吋 備用機 整新機 聖誕節禮物\n",
      "鋅合金 3A極速快充  傳輸線 iPhone 安卓 type-c micro 快充線 彎頭 三星 蘋果 手機充電線 3M\n",
      "【Apple】iPhone X 256GB【福利機】\n",
      "【仁熊精選】iPhone 8 / 8 Plus 二手機 64G / 256G 現貨供應 保固90天\n",
      "Iphone xs max iphone 99新 買到一定是賺到，13 都在台灣可使用的 11 12 pro max\n",
      "【歲末出清】Apple iXR iPhoneXR iPhone XR 64G 128G 256G 6.1吋 蘋果 二手機\n",
      "「限時特價」K3數位 iPhone X 64G / 256G 台版NCC 二手手機 含稅發票 保固90天\n",
      "『限時特價』K3數位 二手 iPhone 6s／6s Plus 16G/32G/64G 高雄店面含稅發票 保固90天\n",
      "Apple iPhone8 64g 95成新機況優可用舊機折抵台北實體店面\n",
      "🍎2月特惠🍎『優勢蘋果』iPhoneX 64/256GB 太空灰/銀色  福利機 外觀近新 台灣公司貨 保固30天\n",
      "【仁熊精選】 iPhone 11／11 Pro／11 Pro Max二手 ∣ 64G／128G／256G ∣ 保固90天\n",
      "便宜嚴選福利機 iphone8 plus 256g 5.5吋 i8plus 8p64g iPhone 8\n",
      "含稅含發票 95新 iPhone7 i7 128G 4.7吋 功能正常 超商取貨付款 實體店 台中 永和 二手\n",
      "Apple iPhone 11 128G 128GB 6.1吋 白/黑/紅/黃/紫/綠 新版本 現貨\n",
      "🍎2月特惠🍎iPhone Xs  64/256/512GB  3色 外觀近新  iPhoneXS 台灣公司貨\n",
      "可刷卡分期 有發票 i11 iPhone 11 64G 128G 6.1吋 實體店 台中 板橋 苗栗 保固三個月\n",
      "Apple iPhone7 128g 霧黑/耀石黑/香檳金/玫瑰金/限量紅 外觀漂亮 盒裝9.5成新\n",
      "聖誕特價中 有發票 Apple iPhone6 plus i6P 6P 6SP 16G 64G 128G 5.5吋\n",
      "🍎2月特惠🍎iPhone8 Plus 64/128/256G外觀9成新  台灣公司貨 iPhone8Plus\n",
      "✨感謝東森華視新聞採訪✨熱銷超缺款➡️ 含稅附發票🧾 IPhone 11 64/128/256 各色（全新庫存機）\n",
      "🍎1月特惠🍎『優勢蘋果』iPhone6s 16/32/64/128G 玫瑰金/太空灰/金 外觀9成新 福利品 6S\n",
      "限時特價 含發票🇹🇼 XS iPhone XS Max 64G 256G 512G 5.8寸 6.5寸 台中 板橋 竹南\n",
      "免運 iPhone 7 i7 32GB 128G 4.7inch iphone7 現貨 實體店 臺中 板橋 含稅附發票\n",
      "🍎2月特惠🍎【優勢蘋果】iPhone8 64/256G  外觀近新 4色 提供保固 台灣公司貨\n",
      "❤️全新福利品❤️ 含稅附發票🧾 IPhone 11 64G/128G/256G\n",
      "可刷卡分期 含發票 Apple iphone SE2 4.7吋 64G 128G 256G 實體店 臺中 板橋\n",
      "❤️全新庫存機❤️ ✅含稅開發票🧾✅ IPhone SE2 64G/128G\n",
      "可刷卡分期 附發票🇹🇼 iPhoneXR XR 6.1吋 64G 128G 256G 保固90天 台中 板橋 實體店\n",
      "iphone 7  plus 完美庫存展新機 99新 11 繁体中文 12 享保固 pro max\n",
      "客製化 來圖訂製 【適用全機型】iPhone 12 IP11 max IP11 Pro ax5s a71 a51\n",
      "✅含稅開發票🧾✅ IPhone XR 64 /128G/256G 全新庫存機🔥🔥\n",
      "iphone 7 8 i7 i8 plus XR XS 11 12 13 i11 i12 i13 pro max 手機殼\n",
      "✅有假包退 不用擔心✅ uag 手機殼 保護殼頂級版 iPhone 12 蘋果 XR XSMAX 13 8p 手機殼v\n",
      "CW充電線 傳輸線 PD快充線適用iPhone 13 12 11 Pro Max XR 安卓Type C蘋果Apple\n",
      "聽歌 充電 一分二音頻線 雙轉接頭 雙轉接 二合一 iPhone 蘋果 耳機 轉接線 現貨\n",
      "四代迷你型觸控藍牙耳機 適用蘋果iPhone/安卓 藍芽耳機 重低音 不閃燈 運動耳機 語音助手/彈窗/定位/雙耳通話\n"
     ]
    }
   ],
   "source": [
    "item_basic = {}\n",
    "for i,item in enumerate(data[\"items\"]):\n",
    "    item_basic.setdefault('item_basic%s'%(i),item[\"item_basic\"])\n",
    "\n",
    "all_name = {}\n",
    "for i in range(0,len(item_basic)):\n",
    "    temp = item_basic['item_basic%s'%(i)]\n",
    "    all_name.setdefault('name%s'%(i),temp[\"name\"])\n",
    "\n",
    "# print(all_name.values())\n",
    "\n",
    "print(\"所有搜尋到的商品名:\")\n",
    "for j in range(0,len(all_name)):\n",
    "    print(all_name[\"name%s\"%(j)])\n"
   ]
  },
  {
   "cell_type": "markdown",
   "id": "c3c807a4",
   "metadata": {},
   "source": [
    "<!-- \n",
    "print(full_text.prettify()) #輸出排版後的內容\n",
    "class_text = full_text.find(\"div\")\n",
    "\n",
    "text_all = full_text.find_all(\"div\",limit = 2)\n",
    "print(text_all)\n",
    "data1 = result.select_one(\"a\") #select_one()方法(Method)，選取一個子節點\n",
    "#step4:了解網頁的html的撰寫規則\n",
    "\n",
    "#step5:確定目標內容!!\n",
    "\n",
    "#python爬蟲常用語法\n",
    "text1 = full_text.find(\"table\",class_=\"hi\")\n",
    "\n",
    "\n",
    "text2 = full_text.find_all(\"li\")\n",
    "text3 = full_text.find_all(\"h3\", itemprop=\"headline\", limit=3)#只爬前三個標籤\n",
    "text4 = full_text.find_all([\"h3\", \"p\"], limit=2)\n",
    "\n",
    "result = soup.find(\"h3\", itemprop=\"headline\") -->"
   ]
  }
 ],
 "metadata": {
  "kernelspec": {
   "display_name": "Python 3 (ipykernel)",
   "language": "python",
   "name": "python3"
  },
  "language_info": {
   "codemirror_mode": {
    "name": "ipython",
    "version": 3
   },
   "file_extension": ".py",
   "mimetype": "text/x-python",
   "name": "python",
   "nbconvert_exporter": "python",
   "pygments_lexer": "ipython3",
   "version": "3.7.11"
  }
 },
 "nbformat": 4,
 "nbformat_minor": 5
}
